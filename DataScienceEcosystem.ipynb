{
 "cells": [
  {
   "cell_type": "markdown",
   "id": "ecf14899-ee30-4ab8-b7ac-b1950f2bac6b",
   "metadata": {},
   "source": [
    "# Data Science Tools and Ecosystem"
   ]
  },
  {
   "cell_type": "markdown",
   "id": "a8102048-d997-4767-b9f0-0998891e6a8b",
   "metadata": {},
   "source": [
    "In this notebook, Data Science Tools and Ecosystem are summarized."
   ]
  },
  {
   "cell_type": "markdown",
   "id": "79ae6701-52ec-4007-a678-c87f7d57b984",
   "metadata": {},
   "source": [
    "**Objectives:**\n",
    "- List popular languages for Data Science\n",
    "- List commonly used libraries for Data Science\n",
    "- Create markdown cells"
   ]
  },
  {
   "cell_type": "markdown",
   "id": "1756c445-3e72-4831-86f2-093998926eea",
   "metadata": {},
   "source": [
    "Some of the popular languages that Data Scientists use are:\n",
    "1. Python\n",
    "1. R\n",
    "1. Java\n"
   ]
  },
  {
   "cell_type": "markdown",
   "id": "d5469ebe-e6da-4e82-9e26-2d57e081ce46",
   "metadata": {},
   "source": [
    "Some of the commonly used libraries used by Data Scientists include:\n",
    "1. Numpy\n",
    "1. Matplotlib\n",
    "1. Pandas\n"
   ]
  },
  {
   "cell_type": "markdown",
   "id": "a0f16de1-bf05-4ba9-af66-b86931b064c8",
   "metadata": {},
   "source": [
    "| Data Science Tools |\n",
    "|--------------------|\n",
    "| Jupyter Notebooks  |\n",
    "| Zeppelin Notebooks |\n",
    "| R Studio           |"
   ]
  },
  {
   "cell_type": "markdown",
   "id": "ef84489f-c180-43ea-a6cd-fb073d6fe67a",
   "metadata": {},
   "source": [
    "### Below are a few examples of evaluating arithmetic expressions in Python"
   ]
  },
  {
   "cell_type": "code",
   "execution_count": 7,
   "id": "b0c0428a-a6bb-4e2f-9993-2895650f8474",
   "metadata": {},
   "outputs": [
    {
     "data": {
      "text/plain": [
       "17"
      ]
     },
     "execution_count": 7,
     "metadata": {},
     "output_type": "execute_result"
    }
   ],
   "source": [
    "# This a simple arithmetic expression to mutiply then add integers\n",
    "(3*4)+5"
   ]
  },
  {
   "cell_type": "code",
   "execution_count": 8,
   "id": "5802fa16-532f-4dba-939f-dc1ea2f9450d",
   "metadata": {},
   "outputs": [
    {
     "data": {
      "text/plain": [
       "3.3333333333333335"
      ]
     },
     "execution_count": 8,
     "metadata": {},
     "output_type": "execute_result"
    }
   ],
   "source": [
    "# This will convert 200 minutes to hours by diving by 60\n",
    "hours = 200/60\n",
    "hours"
   ]
  },
  {
   "cell_type": "markdown",
   "id": "dab17b12-db7d-45dd-96e9-4864d7a23d34",
   "metadata": {},
   "source": [
    "## Author\n",
    "Huijuan"
   ]
  },
  {
   "cell_type": "code",
   "execution_count": null,
   "id": "a1dbf720-f37b-466f-841d-6c0a46516a53",
   "metadata": {},
   "outputs": [],
   "source": []
  }
 ],
 "metadata": {
  "kernelspec": {
   "display_name": "Python 3 (ipykernel)",
   "language": "python",
   "name": "python3"
  },
  "language_info": {
   "codemirror_mode": {
    "name": "ipython",
    "version": 3
   },
   "file_extension": ".py",
   "mimetype": "text/x-python",
   "name": "python",
   "nbconvert_exporter": "python",
   "pygments_lexer": "ipython3",
   "version": "3.11.5"
  }
 },
 "nbformat": 4,
 "nbformat_minor": 5
}
